{
  "nbformat": 4,
  "nbformat_minor": 0,
  "metadata": {
    "colab": {
      "name": "NLP Project.ipynb",
      "provenance": []
    },
    "kernelspec": {
      "name": "python3",
      "display_name": "Python 3"
    },
    "accelerator": "GPU"
  },
  "cells": [
    {
      "cell_type": "code",
      "metadata": {
        "id": "BZM67yqq63CQ",
        "outputId": "6e5800f2-988d-4657-eef7-ed5ff7dc6a43",
        "colab": {
          "base_uri": "https://localhost:8080/",
          "height": 128
        }
      },
      "source": [
        "from google.colab import drive\n",
        "drive.mount('/content/drive/')"
      ],
      "execution_count": null,
      "outputs": [
        {
          "output_type": "stream",
          "text": [
            "Go to this URL in a browser: https://accounts.google.com/o/oauth2/auth?client_id=947318989803-6bn6qk8qdgf4n4g3pfee6491hc0brc4i.apps.googleusercontent.com&redirect_uri=urn%3Aietf%3Awg%3Aoauth%3A2.0%3Aoob&scope=email%20https%3A%2F%2Fwww.googleapis.com%2Fauth%2Fdocs.test%20https%3A%2F%2Fwww.googleapis.com%2Fauth%2Fdrive%20https%3A%2F%2Fwww.googleapis.com%2Fauth%2Fdrive.photos.readonly%20https%3A%2F%2Fwww.googleapis.com%2Fauth%2Fpeopleapi.readonly&response_type=code\n",
            "\n",
            "Enter your authorization code:\n",
            "··········\n",
            "Mounted at /content/drive/\n"
          ],
          "name": "stdout"
        }
      ]
    },
    {
      "cell_type": "code",
      "metadata": {
        "id": "YrRdHNSp7CW8",
        "outputId": "e10dea04-e842-418d-b1db-e3581993728e",
        "colab": {
          "base_uri": "https://localhost:8080/",
          "height": 783
        }
      },
      "source": [
        "!pip install gensim"
      ],
      "execution_count": null,
      "outputs": [
        {
          "output_type": "stream",
          "text": [
            "Collecting gensim\n",
            "\u001b[?25l  Downloading https://files.pythonhosted.org/packages/27/a4/d10c0acc8528d838cda5eede0ee9c784caa598dbf40bd0911ff8d067a7eb/gensim-3.6.0-cp36-cp36m-manylinux1_x86_64.whl (23.6MB)\n",
            "\u001b[K    100% |████████████████████████████████| 23.6MB 1.8MB/s \n",
            "\u001b[?25hCollecting smart-open>=1.2.1 (from gensim)\n",
            "  Downloading https://files.pythonhosted.org/packages/4b/1f/6f27e3682124de63ac97a0a5876da6186de6c19410feab66c1543afab055/smart_open-1.7.1.tar.gz\n",
            "Requirement already satisfied: numpy>=1.11.3 in /usr/local/lib/python3.6/dist-packages (from gensim) (1.14.6)\n",
            "Requirement already satisfied: scipy>=0.18.1 in /usr/local/lib/python3.6/dist-packages (from gensim) (1.1.0)\n",
            "Requirement already satisfied: six>=1.5.0 in /usr/local/lib/python3.6/dist-packages (from gensim) (1.11.0)\n",
            "Collecting boto>=2.32 (from smart-open>=1.2.1->gensim)\n",
            "\u001b[?25l  Downloading https://files.pythonhosted.org/packages/23/10/c0b78c27298029e4454a472a1919bde20cb182dab1662cec7f2ca1dcc523/boto-2.49.0-py2.py3-none-any.whl (1.4MB)\n",
            "\u001b[K    100% |████████████████████████████████| 1.4MB 14.2MB/s \n",
            "\u001b[?25hCollecting bz2file (from smart-open>=1.2.1->gensim)\n",
            "  Downloading https://files.pythonhosted.org/packages/61/39/122222b5e85cd41c391b68a99ee296584b2a2d1d233e7ee32b4532384f2d/bz2file-0.98.tar.gz\n",
            "Requirement already satisfied: requests in /usr/local/lib/python3.6/dist-packages (from smart-open>=1.2.1->gensim) (2.18.4)\n",
            "Collecting boto3 (from smart-open>=1.2.1->gensim)\n",
            "\u001b[?25l  Downloading https://files.pythonhosted.org/packages/c1/92/7f8aa87373f6701583d3aed380d96dad340a1740a6758807455998516b31/boto3-1.9.45-py2.py3-none-any.whl (128kB)\n",
            "\u001b[K    100% |████████████████████████████████| 133kB 26.7MB/s \n",
            "\u001b[?25hRequirement already satisfied: idna<2.7,>=2.5 in /usr/local/lib/python3.6/dist-packages (from requests->smart-open>=1.2.1->gensim) (2.6)\n",
            "Requirement already satisfied: urllib3<1.23,>=1.21.1 in /usr/local/lib/python3.6/dist-packages (from requests->smart-open>=1.2.1->gensim) (1.22)\n",
            "Requirement already satisfied: chardet<3.1.0,>=3.0.2 in /usr/local/lib/python3.6/dist-packages (from requests->smart-open>=1.2.1->gensim) (3.0.4)\n",
            "Requirement already satisfied: certifi>=2017.4.17 in /usr/local/lib/python3.6/dist-packages (from requests->smart-open>=1.2.1->gensim) (2018.10.15)\n",
            "Collecting s3transfer<0.2.0,>=0.1.10 (from boto3->smart-open>=1.2.1->gensim)\n",
            "\u001b[?25l  Downloading https://files.pythonhosted.org/packages/d7/14/2a0004d487464d120c9fb85313a75cd3d71a7506955be458eebfe19a6b1d/s3transfer-0.1.13-py2.py3-none-any.whl (59kB)\n",
            "\u001b[K    100% |████████████████████████████████| 61kB 22.8MB/s \n",
            "\u001b[?25hCollecting jmespath<1.0.0,>=0.7.1 (from boto3->smart-open>=1.2.1->gensim)\n",
            "  Downloading https://files.pythonhosted.org/packages/b7/31/05c8d001f7f87f0f07289a5fc0fc3832e9a57f2dbd4d3b0fee70e0d51365/jmespath-0.9.3-py2.py3-none-any.whl\n",
            "Collecting botocore<1.13.0,>=1.12.45 (from boto3->smart-open>=1.2.1->gensim)\n",
            "\u001b[?25l  Downloading https://files.pythonhosted.org/packages/ab/fa/5853b620519ee0f4fbc9c08c0598c6b51b09b09774f130e98df7d7ce4fce/botocore-1.12.45-py2.py3-none-any.whl (4.8MB)\n",
            "\u001b[K    100% |████████████████████████████████| 4.8MB 6.9MB/s \n",
            "\u001b[?25hCollecting docutils>=0.10 (from botocore<1.13.0,>=1.12.45->boto3->smart-open>=1.2.1->gensim)\n",
            "\u001b[?25l  Downloading https://files.pythonhosted.org/packages/36/fa/08e9e6e0e3cbd1d362c3bbee8d01d0aedb2155c4ac112b19ef3cae8eed8d/docutils-0.14-py3-none-any.whl (543kB)\n",
            "\u001b[K    100% |████████████████████████████████| 552kB 14.2MB/s \n",
            "\u001b[?25hRequirement already satisfied: python-dateutil<3.0.0,>=2.1; python_version >= \"2.7\" in /usr/local/lib/python3.6/dist-packages (from botocore<1.13.0,>=1.12.45->boto3->smart-open>=1.2.1->gensim) (2.5.3)\n",
            "Building wheels for collected packages: smart-open, bz2file\n",
            "  Running setup.py bdist_wheel for smart-open ... \u001b[?25l-\b \b\\\b \bdone\n",
            "\u001b[?25h  Stored in directory: /root/.cache/pip/wheels/23/00/44/e5b939f7a80c04e32297dbd6d96fa3065af89ecf57e2b5f89f\n",
            "  Running setup.py bdist_wheel for bz2file ... \u001b[?25l-\b \bdone\n",
            "\u001b[?25h  Stored in directory: /root/.cache/pip/wheels/81/75/d6/e1317bf09bf1af5a30befc2a007869fa6e1f516b8f7c591cb9\n",
            "Successfully built smart-open bz2file\n",
            "Installing collected packages: boto, bz2file, jmespath, docutils, botocore, s3transfer, boto3, smart-open, gensim\n",
            "Successfully installed boto-2.49.0 boto3-1.9.45 botocore-1.12.45 bz2file-0.98 docutils-0.14 gensim-3.6.0 jmespath-0.9.3 s3transfer-0.1.13 smart-open-1.7.1\n"
          ],
          "name": "stdout"
        }
      ]
    },
    {
      "cell_type": "code",
      "metadata": {
        "id": "iYQmWnoG7LdC"
      },
      "source": [
        "#Importing important functions\n",
        "\n",
        "import pandas as pd\n",
        "import numpy as np\n",
        "import os\n",
        "from keras.preprocessing.text import Tokenizer\n",
        "from keras.preprocessing.sequence import pad_sequences\n",
        "from keras.utils.np_utils import to_categorical\n",
        "from keras.layers import Dense, Input, Flatten, Conv1D, MaxPooling1D, Embedding, Dropout\n",
        "from keras.models import Model,Sequential\n",
        "from keras.optimizers import RMSprop, Adam, SGD\n",
        "import gensim\n",
        "from keras.datasets import imdb\n",
        "from matplotlib import pyplot as plt \n",
        "import re\n"
      ],
      "execution_count": null,
      "outputs": []
    },
    {
      "cell_type": "code",
      "metadata": {
        "id": "FHxqe6O67UcA"
      },
      "source": [
        "os.chdir(\"./drive/My Drive/Colab Notebooks\")"
      ],
      "execution_count": null,
      "outputs": []
    },
    {
      "cell_type": "code",
      "metadata": {
        "id": "zdznAHQ-7ZNQ",
        "outputId": "d1b8ab5f-c285-4c56-c448-a6d4088ba689",
        "colab": {
          "base_uri": "https://localhost:8080/",
          "height": 54
        }
      },
      "source": [
        "#Word2Vec load and Data load \n",
        "\n",
        "word2vec_model = gensim.models.KeyedVectors.load_word2vec_format('word2vec.bin',binary=True)\n",
        "(x_train, y_train), (x_test, y_test) = imdb.load_data()"
      ],
      "execution_count": null,
      "outputs": [
        {
          "output_type": "stream",
          "text": [
            "Downloading data from https://s3.amazonaws.com/text-datasets/imdb.npz\n",
            "17465344/17464789 [==============================] - 1s 0us/step\n"
          ],
          "name": "stdout"
        }
      ]
    },
    {
      "cell_type": "code",
      "metadata": {
        "id": "sBR7jcyo7i2A",
        "outputId": "0e7116e2-8cd7-4277-8ec7-a02ccf30f833",
        "colab": {
          "base_uri": "https://localhost:8080/",
          "height": 54
        }
      },
      "source": [
        "word_index=imdb.get_word_index()\n",
        "inv_word_index={v:k for k,v in word_index.items()}"
      ],
      "execution_count": null,
      "outputs": [
        {
          "output_type": "stream",
          "text": [
            "Downloading data from https://s3.amazonaws.com/text-datasets/imdb_word_index.json\n",
            "1646592/1641221 [==============================] - 1s 0us/step\n"
          ],
          "name": "stdout"
        }
      ]
    },
    {
      "cell_type": "code",
      "metadata": {
        "id": "lWDAMDb57vr6",
        "outputId": "17f1ac6a-b12d-4b53-c271-026e3a4b8956",
        "colab": {
          "base_uri": "https://localhost:8080/",
          "height": 365
        }
      },
      "source": [
        "#Data Exploration\n",
        "\n",
        "f = [len(x_train[i]) for i in range(len(x_train))]\n",
        "f = np.array(f)\n",
        "f = np.unique(f,return_counts=True)\n",
        "plt.plot(f[0],f[1])"
      ],
      "execution_count": null,
      "outputs": [
        {
          "output_type": "execute_result",
          "data": {
            "text/plain": [
              "[<matplotlib.lines.Line2D at 0x7f37f5933860>]"
            ]
          },
          "metadata": {
            "tags": []
          },
          "execution_count": 10
        },
        {
          "output_type": "display_data",
          "data": {
            "image/png": "[encoded data removed]",
            "text/plain": [
              "<matplotlib.figure.Figure at 0x7f37f62134e0>"
            ]
          },
          "metadata": {
            "tags": []
          }
        }
      ]
    },
    {
      "cell_type": "code",
      "metadata": {
        "id": "97q9u1bc7_kE"
      },
      "source": [
        "#Data preprocessing\n",
        "\n",
        "num_words_per_review = 130\n",
        "word2vec_dim=300\n",
        "num_words=len(word_index.keys())\n",
        "\n",
        "\n",
        "def preprocessing(x):\n",
        "  x=re.findall(r\"[\\w']+\", x)\n",
        "  w=[]\n",
        "  w.append(1)\n",
        "  for word in x:\n",
        "    if word.lower() in word_index:\n",
        "      w.append(word_index[word.lower()])\n",
        "    else:\n",
        "      w.append(2)\n",
        "  return w\n",
        "\n",
        "\n",
        "\n",
        "def padding(x):\n",
        "  x=pad_sequences(x,maxlen=num_words_per_review,padding='post',truncating='post')\n",
        "  return x\n"
      ],
      "execution_count": null,
      "outputs": []
    },
    {
      "cell_type": "code",
      "metadata": {
        "id": "yL3azPa28MVD"
      },
      "source": [
        "z=[preprocessing(\"This is good stuff.\")]\n",
        "z=padding(z)"
      ],
      "execution_count": null,
      "outputs": []
    },
    {
      "cell_type": "code",
      "metadata": {
        "id": "q3GFme2n9b5-"
      },
      "source": [
        "x_train=padding(x_train)\n",
        "x_test=padding(x_test)"
      ],
      "execution_count": null,
      "outputs": []
    },
    {
      "cell_type": "code",
      "metadata": {
        "id": "hlWYVuDjMZjJ"
      },
      "source": [
        "#model definition\n",
        "\n",
        "def define_model(embedding_matrix):\n",
        "  model=Sequential()\n",
        "  model.add(Embedding(num_words+1,word2vec_dim,input_length=num_words_per_review,weights=[embedding_matrix]))\n",
        "  model.add(Conv1D(64,3))\n",
        "  model.add(MaxPooling1D(pool_size=2))\n",
        "  model.add(Conv1D(32,3))\n",
        "  model.add(MaxPooling1D(pool_size=2))\n",
        "  model.add(Conv1D(16,3))\n",
        "  model.add(MaxPooling1D(pool_size=2))\n",
        "  model.add(Flatten())\n",
        "  model.add(Dropout(0.2))\n",
        "  model.add(Dense(1,activation='sigmoid'))\n",
        "  model.compile(loss='binary_crossentropy', optimizer='adam', metrics=['acc'])\n",
        "  return model"
      ],
      "execution_count": null,
      "outputs": []
    },
    {
      "cell_type": "code",
      "metadata": {
        "id": "9fYwMqtYBFdc",
        "outputId": "4b335115-6da0-412f-c07d-d48fca0287eb",
        "colab": {
          "base_uri": "https://localhost:8080/",
          "height": 235
        }
      },
      "source": [
        "#word2vec embedding matrix\n",
        "embedding_matrix = np.random.rand(num_words+1, word2vec_dim)\n",
        "for word, index in word_index.items():\n",
        "        if word in word2vec_model:\n",
        "            embedding_matrix[index] = word2vec_model[word]\n",
        "model=define_model(embedding_matrix)\n",
        "model.fit(x=x_train, y=y_train, validation_data=(x_test, y_test), epochs=5, batch_size=512, verbose=1)\n"
      ],
      "execution_count": null,
      "outputs": [
        {
          "output_type": "stream",
          "text": [
            "Train on 25000 samples, validate on 25000 samples\n",
            "Epoch 1/5\n",
            "25000/25000 [==============================] - 6s 259us/step - loss: 0.7199 - acc: 0.5082 - val_loss: 0.6857 - val_acc: 0.5496\n",
            "Epoch 2/5\n",
            "25000/25000 [==============================] - 4s 161us/step - loss: 0.6466 - acc: 0.6416 - val_loss: 0.6476 - val_acc: 0.6288\n",
            "Epoch 3/5\n",
            "25000/25000 [==============================] - 4s 162us/step - loss: 0.5086 - acc: 0.7670 - val_loss: 0.5341 - val_acc: 0.7332\n",
            "Epoch 4/5\n",
            "25000/25000 [==============================] - 4s 160us/step - loss: 0.3202 - acc: 0.8689 - val_loss: 0.5218 - val_acc: 0.7453\n",
            "Epoch 5/5\n",
            "25000/25000 [==============================] - 4s 161us/step - loss: 0.1850 - acc: 0.9374 - val_loss: 0.5841 - val_acc: 0.7419\n"
          ],
          "name": "stdout"
        },
        {
          "output_type": "execute_result",
          "data": {
            "text/plain": [
              "<keras.callbacks.History at 0x7f37e0d3d898>"
            ]
          },
          "metadata": {
            "tags": []
          },
          "execution_count": 152
        }
      ]
    },
    {
      "cell_type": "code",
      "metadata": {
        "id": "uEB3wfEICzr9",
        "outputId": "12e649e3-c310-42a4-da9d-9c16ffc8fbd3",
        "colab": {
          "base_uri": "https://localhost:8080/",
          "height": 508
        }
      },
      "source": [
        "model.summary()"
      ],
      "execution_count": null,
      "outputs": [
        {
          "output_type": "stream",
          "text": [
            "_________________________________________________________________\n",
            "Layer (type)                 Output Shape              Param #   \n",
            "=================================================================\n",
            "embedding_10 (Embedding)     (None, 400, 300)          26575500  \n",
            "_________________________________________________________________\n",
            "conv1d_28 (Conv1D)           (None, 398, 64)           57664     \n",
            "_________________________________________________________________\n",
            "max_pooling1d_28 (MaxPooling (None, 99, 64)            0         \n",
            "_________________________________________________________________\n",
            "conv1d_29 (Conv1D)           (None, 97, 32)            6176      \n",
            "_________________________________________________________________\n",
            "max_pooling1d_29 (MaxPooling (None, 24, 32)            0         \n",
            "_________________________________________________________________\n",
            "conv1d_30 (Conv1D)           (None, 22, 16)            1552      \n",
            "_________________________________________________________________\n",
            "max_pooling1d_30 (MaxPooling (None, 5, 16)             0         \n",
            "_________________________________________________________________\n",
            "flatten_10 (Flatten)         (None, 80)                0         \n",
            "_________________________________________________________________\n",
            "dropout_10 (Dropout)         (None, 80)                0         \n",
            "_________________________________________________________________\n",
            "dense_10 (Dense)             (None, 1)                 81        \n",
            "=================================================================\n",
            "Total params: 26,640,973\n",
            "Trainable params: 26,640,973\n",
            "Non-trainable params: 0\n",
            "_________________________________________________________________\n"
          ],
          "name": "stdout"
        }
      ]
    },
    {
      "cell_type": "code",
      "metadata": {
        "id": "TthMjzHSDBPx",
        "outputId": "564fa24b-90c3-42d6-a50d-7065d6ff4839",
        "colab": {
          "base_uri": "https://localhost:8080/",
          "height": 235
        }
      },
      "source": [
        "#embedding matrix random initialization\n",
        "\n",
        "embedding_matrix = np.random.rand(num_words+1, word2vec_dim)\n",
        "model=define_model(embedding_matrix)\n",
        "model.fit(x=x_train, y=y_train, validation_data=(x_test, y_test), epochs=5, batch_size=512, verbose=1)"
      ],
      "execution_count": null,
      "outputs": [
        {
          "output_type": "stream",
          "text": [
            "Train on 25000 samples, validate on 25000 samples\n",
            "Epoch 1/5\n",
            "25000/25000 [==============================] - 9s 378us/step - loss: 0.7620 - acc: 0.5025 - val_loss: 0.6961 - val_acc: 0.5125\n",
            "Epoch 2/5\n",
            "25000/25000 [==============================] - 8s 315us/step - loss: 0.6544 - acc: 0.6338 - val_loss: 0.6900 - val_acc: 0.5330\n",
            "Epoch 3/5\n",
            "25000/25000 [==============================] - 8s 316us/step - loss: 0.6095 - acc: 0.7284 - val_loss: 0.6865 - val_acc: 0.5445\n",
            "Epoch 4/5\n",
            "25000/25000 [==============================] - 8s 318us/step - loss: 0.5619 - acc: 0.7993 - val_loss: 0.6880 - val_acc: 0.5405\n",
            "Epoch 5/5\n",
            "25000/25000 [==============================] - 8s 317us/step - loss: 0.5015 - acc: 0.8420 - val_loss: 0.6701 - val_acc: 0.5809\n"
          ],
          "name": "stdout"
        },
        {
          "output_type": "execute_result",
          "data": {
            "text/plain": [
              "<keras.callbacks.History at 0x7f37eafeedd8>"
            ]
          },
          "metadata": {
            "tags": []
          },
          "execution_count": 90
        }
      ]
    },
    {
      "cell_type": "code",
      "metadata": {
        "id": "2nSyiYlDD3dq",
        "outputId": "e8e982cf-f733-481d-bf75-46db3029999c",
        "colab": {
          "base_uri": "https://localhost:8080/",
          "height": 235
        }
      },
      "source": [
        "#embedding matrix zero initialization\n",
        "\n",
        "embedding_matrix = np.zeros((num_words+1, word2vec_dim))\n",
        "model=define_model(embedding_matrix)\n",
        "model.fit(x=x_train, y=y_train, validation_data=(x_test, y_test), epochs=5, batch_size=512, verbose=1)"
      ],
      "execution_count": null,
      "outputs": [
        {
          "output_type": "stream",
          "text": [
            "Train on 25000 samples, validate on 25000 samples\n",
            "Epoch 1/5\n",
            "25000/25000 [==============================] - 10s 385us/step - loss: 0.6231 - acc: 0.6436 - val_loss: 0.4493 - val_acc: 0.8012\n",
            "Epoch 2/5\n",
            "25000/25000 [==============================] - 8s 314us/step - loss: 0.2913 - acc: 0.8840 - val_loss: 0.3433 - val_acc: 0.8561\n",
            "Epoch 3/5\n",
            "25000/25000 [==============================] - 8s 316us/step - loss: 0.1196 - acc: 0.9588 - val_loss: 0.4944 - val_acc: 0.8374\n",
            "Epoch 4/5\n",
            "25000/25000 [==============================] - 8s 315us/step - loss: 0.0476 - acc: 0.9855 - val_loss: 0.6712 - val_acc: 0.8325\n",
            "Epoch 5/5\n",
            "25000/25000 [==============================] - 8s 315us/step - loss: 0.0233 - acc: 0.9934 - val_loss: 0.7476 - val_acc: 0.8359\n"
          ],
          "name": "stdout"
        },
        {
          "output_type": "execute_result",
          "data": {
            "text/plain": [
              "<keras.callbacks.History at 0x7f37ed63dd30>"
            ]
          },
          "metadata": {
            "tags": []
          },
          "execution_count": 94
        }
      ]
    },
    {
      "cell_type": "code",
      "metadata": {
        "id": "B2fSdXKKD3Yl"
      },
      "source": [
        "data=pd.read_csv(\"ResortData.csv\")\n",
        "data.columns=['review','sentiment']\n",
        "text=data['review'].values.tolist()\n",
        "labels=data['sentiment'].values.tolist()"
      ],
      "execution_count": null,
      "outputs": []
    },
    {
      "cell_type": "code",
      "metadata": {
        "id": "vimclf3TD3Wb"
      },
      "source": [
        "myset=[]\n",
        "for l in text:\n",
        "  myset.append(preprocessing(l))\n",
        "text=padding(myset)\n",
        "# myset"
      ],
      "execution_count": null,
      "outputs": []
    },
    {
      "cell_type": "code",
      "metadata": {
        "id": "FeQp14D9D3Ty",
        "outputId": "d0b766b4-c478-4ab0-f80d-cb73728f21db",
        "colab": {
          "base_uri": "https://localhost:8080/",
          "height": 54
        }
      },
      "source": [
        "model.evaluate(text,labels)"
      ],
      "execution_count": null,
      "outputs": [
        {
          "output_type": "stream",
          "text": [
            "40/40 [==============================] - 0s 423us/step\n"
          ],
          "name": "stdout"
        },
        {
          "output_type": "execute_result",
          "data": {
            "text/plain": [
              "[1.4385568618774414, 0.525]"
            ]
          },
          "metadata": {
            "tags": []
          },
          "execution_count": 156
        }
      ]
    },
    {
      "cell_type": "code",
      "metadata": {
        "id": "zrQpnRJLD3Rd",
        "outputId": "96b05725-8b49-45b9-e5b5-28d62dffca4a",
        "colab": {
          "base_uri": "https://localhost:8080/",
          "height": 35
        }
      },
      "source": [
        "z=[preprocessing(\"This is a horrible  movie.\")]\n",
        "z=padding(z)\n",
        "model.predict(z)"
      ],
      "execution_count": null,
      "outputs": [
        {
          "output_type": "execute_result",
          "data": {
            "text/plain": [
              "array([[0.80409735]], dtype=float32)"
            ]
          },
          "metadata": {
            "tags": []
          },
          "execution_count": 134
        }
      ]
    },
    {
      "cell_type": "code",
      "metadata": {
        "id": "58g6CPdPD3Lu"
      },
      "source": [
        ""
      ],
      "execution_count": null,
      "outputs": []
    }
  ]
}